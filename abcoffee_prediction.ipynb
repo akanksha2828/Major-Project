{
  "cells": [
    {
      "cell_type": "code",
      "execution_count": null,
      "metadata": {
        "id": "KY6E0i_ZuqhY"
      },
      "outputs": [],
      "source": [
        "import pandas as pd\n",
        "import numpy as np\n",
        "from sklearn.cluster import DBSCAN\n",
        "from sklearn.preprocessing import StandardScaler\n",
        "from scipy.spatial.distance import cdist\n",
        "from sklearn.metrics.pairwise import haversine_distances\n",
        "from math import radians"
      ]
    },
    {
      "cell_type": "code",
      "execution_count": null,
      "metadata": {
        "id": "v_0-xEE8qMC-"
      },
      "outputs": [],
      "source": [
        "# Load data\n",
        "station_df = pd.read_excel('station.xlsx')\n",
        "abCoffee_df = pd.read_excel('abCoffee_outlets.xlsx')\n",
        "locality_price_df = pd.read_excel('final_prices.xlsx')\n",
        "cafe_data_df = pd.read_excel('cafe_data.xlsx')"
      ]
    },
    {
      "cell_type": "code",
      "execution_count": null,
      "metadata": {
        "id": "yjLVpBRIqRUz"
      },
      "outputs": [],
      "source": [
        "# Helper function to calculate distance in meters between two coordinates\n",
        "def calculate_distance(coord1, coord2):\n",
        "    coord1_rad = [radians(_) for _ in coord1]\n",
        "    coord2_rad = [radians(_) for _ in coord2]\n",
        "    result = haversine_distances([coord1_rad, coord2_rad])\n",
        "    return result[0][1] * 6371000  # Radius of the Earth in meters"
      ]
    },
    {
      "cell_type": "code",
      "execution_count": null,
      "metadata": {
        "id": "_HMLGTx0qblZ"
      },
      "outputs": [],
      "source": [
        "# Convert latitude and longitude to numeric values, coercing errors to NaN\n",
        "cafe_data_df['latitude'] = pd.to_numeric(cafe_data_df['latitude'], errors='coerce')\n",
        "cafe_data_df['longitude'] = pd.to_numeric(cafe_data_df['longitude'], errors='coerce')\n",
        "\n",
        "# Optional: Handle rows with NaN values in latitude or longitude (e.g., by removing them)\n",
        "cafe_data_df = cafe_data_df.dropna(subset=['latitude', 'longitude'])\n",
        "\n",
        "# Now proceed with your clustering, using the corrected DataFrame\n",
        "coords = cafe_data_df[['latitude', 'longitude']].values\n",
        "db = DBSCAN(eps=0.3/6371., min_samples=1, algorithm='ball_tree', metric='haversine').fit(np.radians(coords))\n",
        "cafe_data_df['cluster'] = db.labels_\n"
      ]
    },
    {
      "cell_type": "code",
      "execution_count": null,
      "metadata": {
        "colab": {
          "base_uri": "https://localhost:8080/"
        },
        "id": "VJBi-SF1uTzM",
        "outputId": "c1fe097e-a406-4f4f-a6d1-028f3d5b1aa2"
      },
      "outputs": [
        {
          "output_type": "stream",
          "name": "stdout",
          "text": [
            "                                              name  cluster\n",
            "0                                  Chai Yaari Cafe        0\n",
            "1  Blue Tokai Coffee Roasters | Hiranandani Estate        1\n",
            "2                                  Dream bean cafe        2\n",
            "3                       Tea Post - A Place to Talk        3\n",
            "4                                 Budiezz Sandwich        4\n"
          ]
        }
      ],
      "source": [
        "# Print information about 5 cafes with their cluster columns\n",
        "print(cafe_data_df[['name', 'cluster']].head(5))\n"
      ]
    },
    {
      "cell_type": "code",
      "execution_count": null,
      "metadata": {
        "colab": {
          "base_uri": "https://localhost:8080/"
        },
        "id": "8g4_TYY6v4us",
        "outputId": "6fae5617-f22c-4eec-ee4d-efa3802a4f5d"
      },
      "outputs": [
        {
          "output_type": "stream",
          "name": "stdout",
          "text": [
            "Number of clusters: 1597\n"
          ]
        }
      ],
      "source": [
        "# Find out how many clusters exist\n",
        "num_clusters = len(set(db.labels_)) - (1 if -1 in db.labels_ else 0)\n",
        "print(\"Number of clusters:\", num_clusters)\n"
      ]
    },
    {
      "cell_type": "code",
      "execution_count": null,
      "metadata": {
        "id": "Pw85PQkiqhsn"
      },
      "outputs": [],
      "source": [
        "# Calculate outlet metric for each cluster\n",
        "def calculate_outlet_metric(cluster):\n",
        "    categories = cluster['category'].value_counts().to_dict()\n",
        "    metric = sum([categories.get(cat, 0) * val for cat, val in {'Cafe': 50, 'Coffee Shop': 65, 'Tea House': 20, 'Other': 35}.items()])\n",
        "    return metric"
      ]
    },
    {
      "cell_type": "code",
      "execution_count": null,
      "metadata": {
        "colab": {
          "base_uri": "https://localhost:8080/"
        },
        "id": "tFNHTUJ_wv8Y",
        "outputId": "aa79c60a-539f-4d6d-8f16-e12ab1aebf2a"
      },
      "outputs": [
        {
          "output_type": "stream",
          "name": "stdout",
          "text": [
            "Metric values for the first 5 clusters:\n",
            "Cluster 0 : 430\n",
            "Cluster 1 : 2495\n",
            "Cluster 2 : 430\n",
            "Cluster 3 : 0\n",
            "Cluster 4 : 290\n"
          ]
        }
      ],
      "source": [
        "# Calculate outlet metric for each cluster\n",
        "metric_values = []\n",
        "for cluster_id in range(num_clusters):\n",
        "    cluster = cafe_data_df[cafe_data_df['cluster'] == cluster_id]\n",
        "    metric_value = calculate_outlet_metric(cluster)\n",
        "    metric_values.append(metric_value)\n",
        "\n",
        "# Display the first 5 metric values\n",
        "print(\"Metric values for the first 5 clusters:\")\n",
        "for i in range(5):\n",
        "    print(\"Cluster\", i, \":\", metric_values[i])\n"
      ]
    },
    {
      "cell_type": "code",
      "execution_count": null,
      "metadata": {
        "id": "x1n6G4A7rG69"
      },
      "outputs": [],
      "source": [
        "cluster_metrics = cafe_data_df.groupby('cluster').apply(calculate_outlet_metric)\n"
      ]
    },
    {
      "cell_type": "code",
      "execution_count": null,
      "metadata": {
        "colab": {
          "base_uri": "https://localhost:8080/"
        },
        "id": "RTa3Krbrxq3A",
        "outputId": "7ebac4a4-c453-41aa-cbb7-cff0e97dc56d"
      },
      "outputs": [
        {
          "output_type": "stream",
          "name": "stdout",
          "text": [
            "cluster\n",
            "0        430\n",
            "1       2495\n",
            "2        430\n",
            "3          0\n",
            "4        290\n",
            "        ... \n",
            "1592       0\n",
            "1593       0\n",
            "1594       0\n",
            "1595      35\n",
            "1596       0\n",
            "Length: 1597, dtype: int64\n"
          ]
        }
      ],
      "source": [
        "# Display the DataFrame resulting from the groupby operation\n",
        "print(cluster_metrics)\n"
      ]
    },
    {
      "cell_type": "code",
      "execution_count": null,
      "metadata": {
        "id": "dq9YnhD3rK3I"
      },
      "outputs": [],
      "source": [
        "# Calculate distance metric for each cluster\n",
        "def calculate_distance_metric(cluster_center):\n",
        "    distances = station_df.apply(lambda row: calculate_distance(cluster_center, (row['latitude'], row['longitude'])), axis=1)\n",
        "    nearest_station_distance = distances.min()\n",
        "    return nearest_station_distance\n"
      ]
    },
    {
      "cell_type": "code",
      "execution_count": null,
      "metadata": {
        "colab": {
          "base_uri": "https://localhost:8080/"
        },
        "id": "21InmKUHyMIo",
        "outputId": "300aba6d-541a-466b-da57-dc9cfbb020df"
      },
      "outputs": [
        {
          "output_type": "stream",
          "name": "stdout",
          "text": [
            "Distance metric for the top 10 clusters:\n",
            "Cluster 0: Distance to nearest station = 5111.39571478834 meters\n",
            "Cluster 1: Distance to nearest station = 5770.795977947639 meters\n",
            "Cluster 2: Distance to nearest station = 4386.156998460547 meters\n",
            "Cluster 3: Distance to nearest station = 5625.813030313808 meters\n",
            "Cluster 4: Distance to nearest station = 4337.578390622429 meters\n",
            "Cluster 5: Distance to nearest station = 3648.187842631361 meters\n",
            "Cluster 6: Distance to nearest station = 1053.4948322732048 meters\n",
            "Cluster 7: Distance to nearest station = 4434.210306002356 meters\n",
            "Cluster 8: Distance to nearest station = 3355.684913205975 meters\n",
            "Cluster 9: Distance to nearest station = 3086.6876831844193 meters\n"
          ]
        }
      ],
      "source": [
        "# Calculate distance metric for each cluster\n",
        "distance_metrics = cafe_data_df.groupby('cluster').apply(lambda cluster: calculate_distance_metric((cluster['latitude'].mean(), cluster['longitude'].mean())))\n",
        "\n",
        "# Display the distance metric for the top 10 clusters\n",
        "print(\"Distance metric for the top 10 clusters:\")\n",
        "for i, distance_metric in enumerate(distance_metrics.head(10)):\n",
        "    print(f\"Cluster {i}: Distance to nearest station = {distance_metric} meters\")\n"
      ]
    },
    {
      "cell_type": "code",
      "execution_count": null,
      "metadata": {
        "colab": {
          "base_uri": "https://localhost:8080/"
        },
        "id": "9gtKQt7hzHlC",
        "outputId": "d8ff5b73-4e57-43a8-8f64-d3d17a3f0731"
      },
      "outputs": [
        {
          "output_type": "stream",
          "name": "stdout",
          "text": [
            "Distance metric for the top 10 clusters:\n",
            "Cluster 584: Distance to nearest station = 20.954530021404445 meters\n",
            "Cluster 603: Distance to nearest station = 29.474802595555886 meters\n",
            "Cluster 84: Distance to nearest station = 54.25057455092763 meters\n",
            "Cluster 44: Distance to nearest station = 59.855683635704764 meters\n",
            "Cluster 926: Distance to nearest station = 59.96639697432185 meters\n",
            "Cluster 62: Distance to nearest station = 65.09946754570545 meters\n",
            "Cluster 22: Distance to nearest station = 68.2712095874716 meters\n",
            "Cluster 768: Distance to nearest station = 80.49296829723824 meters\n",
            "Cluster 961: Distance to nearest station = 85.91995703403047 meters\n",
            "Cluster 987: Distance to nearest station = 90.33355298996327 meters\n"
          ]
        }
      ],
      "source": [
        "# Calculate distance metric for each cluster\n",
        "distance_metrics = cafe_data_df.groupby('cluster').apply(lambda cluster: calculate_distance_metric((cluster['latitude'].mean(), cluster['longitude'].mean())))\n",
        "\n",
        "# Sort clusters based on distance metric values\n",
        "distance_metrics_sorted = distance_metrics.sort_values(ascending=True)\n",
        "\n",
        "# Display the distance metric for the top 10 clusters\n",
        "print(\"Distance metric for the top 10 clusters:\")\n",
        "for i in range(10):\n",
        "    print(f\"Cluster {distance_metrics_sorted.index[i]}: Distance to nearest station = {distance_metrics_sorted.iloc[i]} meters\")\n"
      ]
    },
    {
      "cell_type": "code",
      "execution_count": null,
      "metadata": {
        "id": "tgccwH-ZrOF3"
      },
      "outputs": [],
      "source": [
        "#distance of cluster from train stations\n",
        "clusters_centers = cafe_data_df.groupby('cluster')[['latitude', 'longitude']].mean()\n",
        "distance_metrics = clusters_centers.apply(lambda row: calculate_distance_metric((row['latitude'], row['longitude'])), axis=1)\n"
      ]
    },
    {
      "cell_type": "code",
      "execution_count": null,
      "metadata": {
        "id": "hgTeEi-JrQ3Z"
      },
      "outputs": [],
      "source": [
        "# Calculate locality price metric for each cluster\n",
        "def calculate_price_metric(cluster_center):\n",
        "    distances = locality_price_df.apply(lambda row: calculate_distance(cluster_center, (row['latitude'], row['longitude'])), axis=1)\n",
        "    nearest_locality_index = distances.idxmin()\n",
        "    return locality_price_df.loc[nearest_locality_index, 'price_per_sqft']\n"
      ]
    },
    {
      "cell_type": "code",
      "execution_count": null,
      "metadata": {
        "colab": {
          "base_uri": "https://localhost:8080/"
        },
        "id": "JxcsKsI9sG3m",
        "outputId": "8b71fc64-0bed-41b0-a996-f87017ce6875"
      },
      "outputs": [
        {
          "output_type": "stream",
          "name": "stdout",
          "text": [
            "Top 5 price metrics for clusters:\n",
            "cluster\n",
            "417     1,07,515.91 / sqft\n",
            "1021          1,500 / sqft\n",
            "1020          1,500 / sqft\n",
            "153           1,500 / sqft\n",
            "961           1,500 / sqft\n",
            "dtype: object\n"
          ]
        }
      ],
      "source": [
        "\n",
        "price_metrics = clusters_centers.apply(lambda row: calculate_price_metric((row['latitude'], row['longitude'])), axis=1)\n",
        "# Sort the price metrics Series\n",
        "price_metrics_sorted = price_metrics.sort_values(ascending=True)\n",
        "\n",
        "# Display the top 5 price metrics\n",
        "print(\"Top 5 price metrics for clusters:\")\n",
        "print(price_metrics_sorted.head(5))\n"
      ]
    },
    {
      "cell_type": "markdown",
      "metadata": {
        "id": "FTx9X-Zwvnhd"
      },
      "source": [
        "### ABCOFFEE\n"
      ]
    },
    {
      "cell_type": "code",
      "execution_count": null,
      "metadata": {
        "id": "OKZNtSEAsJn8"
      },
      "outputs": [],
      "source": [
        "# Convert latitude and longitude in abCoffee_df to numeric values\n",
        "abCoffee_df['latitude'] = pd.to_numeric(abCoffee_df['latitude'], errors='coerce')\n",
        "abCoffee_df['longitude'] = pd.to_numeric(abCoffee_df['longitute'], errors='coerce')\n"
      ]
    },
    {
      "cell_type": "code",
      "execution_count": null,
      "metadata": {
        "id": "W-lweraHum1C"
      },
      "outputs": [],
      "source": [
        "# Function to create clusters around abCoffee outlets and calculate metrics\n",
        "def calculate_abCoffee_metrics(row):\n",
        "    # Identify coffee outlets within 100m radius\n",
        "    center = (row['latitude'], row['longitude'])\n",
        "    nearby_outlets = cafe_data_df.apply(lambda x: calculate_distance(center, (x['latitude'], x['longitude'])) < 300, axis=1)\n",
        "    cluster = cafe_data_df[nearby_outlets]\n",
        "\n",
        "     # Calculate outlet metric for the cluster\n",
        "    outlet_metric = calculate_outlet_metric(cluster)\n",
        "\n",
        "    # Calculate distance metric (distance to nearest railway station)\n",
        "    distance_metric = calculate_distance_metric(center)\n",
        "\n",
        "    # Calculate price metric (nearest locality price per square foot)\n",
        "    price_metric = calculate_price_metric(center)\n",
        "\n",
        "    return outlet_metric, distance_metric, price_metric\n"
      ]
    },
    {
      "cell_type": "code",
      "execution_count": null,
      "metadata": {
        "id": "5lHxGI4Lu1Hy"
      },
      "outputs": [],
      "source": [
        "# Apply the function to each abCoffee outlet\n",
        "abCoffee_metrics = abCoffee_df.apply(calculate_abCoffee_metrics, axis=1, result_type='expand')\n",
        "abCoffee_metrics.columns = ['Outlet Metric', 'Distance Metric', 'Price Metric']\n",
        "\n"
      ]
    },
    {
      "cell_type": "code",
      "execution_count": null,
      "metadata": {
        "colab": {
          "base_uri": "https://localhost:8080/"
        },
        "id": "hc45Gjqb3K2D",
        "outputId": "e84b6d7a-40ef-478d-f3c8-b8cb102a66aa"
      },
      "outputs": [
        {
          "output_type": "stream",
          "name": "stdout",
          "text": [
            "   Outlet Metric  Distance Metric      Price Metric\n",
            "0             50      3468.344931   9,844.56 / sqft\n",
            "1             50      1991.067060  29,119.67 / sqft\n",
            "2            100      2285.632522  97,331.79 / sqft\n",
            "3            680      3371.183107  18,333.33 / sqft\n",
            "4            380      3462.051023   8,253.11 / sqft\n",
            "5              0      3033.444586  19,777.78 / sqft\n",
            "6              0      2180.138909  73,875.62 / sqft\n",
            "7              0      1924.999316     15,865 / sqft\n",
            "8             70       565.820135   33,153.3 / sqft\n",
            "9              0      1059.167366   9,285.14 / sqft\n"
          ]
        }
      ],
      "source": [
        "print(abCoffee_metrics)\n"
      ]
    },
    {
      "cell_type": "code",
      "execution_count": null,
      "metadata": {
        "colab": {
          "base_uri": "https://localhost:8080/"
        },
        "id": "FpWtG9Yev4Bw",
        "outputId": "43ed4f26-90ee-4091-8553-b87881c6249b"
      },
      "outputs": [
        {
          "output_type": "stream",
          "name": "stdout",
          "text": [
            "Outlet Metric        133.000000\n",
            "Distance Metric     2334.184896\n",
            "Price Metric       31483.930000\n",
            "dtype: float64\n"
          ]
        }
      ],
      "source": [
        "# Convert the 'Price Metric' column to numeric values\n",
        "abCoffee_metrics['Price Metric'] = abCoffee_metrics['Price Metric'].str.replace(',', '')  # Remove commas\n",
        "abCoffee_metrics['Price Metric'] = abCoffee_metrics['Price Metric'].str.extract(r'([\\d.]+)').astype(float)  # Extract numeric values\n",
        "\n",
        "# Calculate the mean for all metrics\n",
        "ideal_metrics = abCoffee_metrics.mean()\n",
        "\n",
        "print(ideal_metrics)"
      ]
    },
    {
      "cell_type": "code",
      "execution_count": null,
      "metadata": {
        "id": "SaquLsYx1U0W"
      },
      "outputs": [],
      "source": [
        "# to be run once\n",
        "# Convert the 'Price Metric' column to numeric values\n",
        "price_metrics = price_metrics.str.replace(',', '')  # Remove commas\n",
        "price_metrics = price_metrics.str.extract(r'([\\d.]+)').astype(float)  # Extract numeric values"
      ]
    },
    {
      "cell_type": "code",
      "execution_count": null,
      "metadata": {
        "colab": {
          "base_uri": "https://localhost:8080/"
        },
        "id": "3Wx00xoj0eTP",
        "outputId": "7b4a9854-e8e6-47dd-f777-3a92ac9cb199"
      },
      "outputs": [
        {
          "output_type": "stream",
          "name": "stdout",
          "text": [
            "                0\n",
            "cluster          \n",
            "0        16504.30\n",
            "1        16504.30\n",
            "2        10000.00\n",
            "3        16504.30\n",
            "4        10000.00\n",
            "...           ...\n",
            "1592      6912.90\n",
            "1593      4929.58\n",
            "1594      5953.80\n",
            "1595      6912.90\n",
            "1596      4929.58\n",
            "\n",
            "[1597 rows x 1 columns]\n",
            "Outlet Metric        133.000000\n",
            "Distance Metric     2334.184896\n",
            "Price Metric       31483.930000\n",
            "dtype: float64\n"
          ]
        }
      ],
      "source": [
        "print(price_metrics)\n",
        "print(ideal_metrics)\n"
      ]
    },
    {
      "cell_type": "code",
      "execution_count": null,
      "metadata": {
        "id": "GlFo-Z_OxiXH"
      },
      "outputs": [],
      "source": [
        "# Function to calculate the weighted difference between two sets of metrics\n",
        "def calculate_weighted_difference(cluster_metrics, ideal_metrics):\n",
        "    # Ensure all metrics are in float format\n",
        "    outlet_diff = np.abs(float(cluster_metrics.get('Outlet Metric', 0)) - float(ideal_metrics.get('Outlet Metric', 0))) * 0.3\n",
        "    distance_diff = np.abs(float(cluster_metrics.get('Distance Metric', 0)) - float(ideal_metrics.get('Distance Metric', 0))) * 0.3\n",
        "    price_diff = np.abs(float(cluster_metrics.get('Price Metric', 0)) - float(ideal_metrics.get('Price Metric', 0))) * 0.4\n",
        "    weighted_diff = outlet_diff + distance_diff + price_diff\n",
        "    return weighted_diff"
      ]
    },
    {
      "cell_type": "code",
      "execution_count": null,
      "metadata": {
        "id": "F-E7nUikyX-6"
      },
      "outputs": [],
      "source": [
        "# Calculate the weighted differences for each cluster with the updated function\n",
        "weighted_differences = clusters_centers.apply(lambda x: calculate_weighted_difference(\n",
        "    {'Outlet Metric': float(cluster_metrics.loc[x.name]), 'Distance Metric': float(distance_metrics.loc[x.name]), 'Price Metric': price_metrics.loc[x.name]},\n",
        "    ideal_metrics), axis=1)\n"
      ]
    },
    {
      "cell_type": "code",
      "execution_count": null,
      "metadata": {
        "id": "0sVhY-apzZ_d"
      },
      "outputs": [],
      "source": [
        "# Proceed with finding the best cluster for a new outlet as before\n",
        "best_cluster_idx = weighted_differences.idxmin()\n",
        "best_location = clusters_centers.loc[best_cluster_idx]"
      ]
    },
    {
      "cell_type": "code",
      "execution_count": null,
      "metadata": {
        "id": "g1Qj5sjG1hEt"
      },
      "outputs": [],
      "source": [
        "# Sort the clusters by their weighted differences in ascending order\n",
        "sorted_clusters = weighted_differences.sort_values()\n",
        "\n",
        "# Select the top 10 clusters\n",
        "top_10_clusters = sorted_clusters.head(10)\n",
        "\n",
        "# Retrieve the locations of the top 10 clusters\n",
        "top_10_locations = clusters_centers.loc[top_10_clusters.index]\n"
      ]
    },
    {
      "cell_type": "code",
      "execution_count": null,
      "metadata": {
        "colab": {
          "base_uri": "https://localhost:8080/"
        },
        "id": "zdhLfgZb1ppa",
        "outputId": "3f8b85e7-c5e4-4132-afcc-bbfb9ee8334c"
      },
      "outputs": [
        {
          "output_type": "stream",
          "name": "stdout",
          "text": [
            "Recommended locations for new outlets:\n",
            "Cluster 1382: Latitude 19.0983353, Longitude 72.9057331\n",
            "Cluster 117: Latitude 19.095561433333334, Longitude 72.90257153333333\n",
            "Cluster 824: Latitude 19.0848189, Longitude 72.8594694\n",
            "Cluster 1317: Latitude 19.0894375, Longitude 72.8986824\n",
            "Cluster 338: Latitude 19.1011684, Longitude 72.8562889\n",
            "Cluster 1261: Latitude 19.1391857, Longitude 72.8667238\n",
            "Cluster 1390: Latitude 19.0905609, Longitude 72.9025301\n",
            "Cluster 846: Latitude 19.132869025, Longitude 72.858133125\n",
            "Cluster 1405: Latitude 19.1367532, Longitude 72.8579386\n",
            "Cluster 86: Latitude 19.087742, Longitude 72.88955179615385\n"
          ]
        }
      ],
      "source": [
        "# Print the recommended locations for new outlets\n",
        "print(\"Recommended locations for new outlets:\")\n",
        "for idx, location in top_10_locations.iterrows():\n",
        "    print(f\"Cluster {idx}: Latitude {location['latitude']}, Longitude {location['longitude']}\")"
      ]
    },
    {
      "cell_type": "code",
      "source": [
        "import folium\n",
        "import pandas as pd\n",
        "\n",
        "# Load the recommended locations\n",
        "# Assuming top_10_locations is already defined\n",
        "\n",
        "\n",
        "# Create a map object centered around an average location of the recommended locations\n",
        "map_center_latitude = top_10_locations['latitude'].mean()\n",
        "map_center_longitude = top_10_locations['longitude'].mean()\n",
        "m = folium.Map(location=[map_center_latitude, map_center_longitude], zoom_start=12)\n",
        "\n",
        "# Add points for each recommended location\n",
        "for idx, location in top_10_locations.iterrows():\n",
        "    folium.Marker(\n",
        "        [location['latitude'], location['longitude']],\n",
        "        popup=f\"Recommended Cluster {idx}\",\n",
        "        icon=folium.Icon(color='green')\n",
        "    ).add_to(m)\n",
        "\n",
        "m"
      ],
      "metadata": {
        "colab": {
          "base_uri": "https://localhost:8080/",
          "height": 807
        },
        "id": "q2roD3HBAfWF",
        "outputId": "5b019291-673f-440e-81f2-98dacf304d4f"
      },
      "execution_count": null,
      "outputs": [
        {
          "output_type": "execute_result",
          "data": {
            "text/plain": [
              "<folium.folium.Map at 0x7afccf996b90>"
            ],
            "text/html": [
              "<div style=\"width:100%;\"><div style=\"position:relative;width:100%;height:0;padding-bottom:60%;\"><span style=\"color:#565656\">Make this Notebook Trusted to load map: File -> Trust Notebook</span><iframe srcdoc=\"&lt;!DOCTYPE html&gt;\n",
              "&lt;html&gt;\n",
              "&lt;head&gt;\n",
              "    \n",
              "    &lt;meta http-equiv=&quot;content-type&quot; content=&quot;text/html; charset=UTF-8&quot; /&gt;\n",
              "    \n",
              "        &lt;script&gt;\n",
              "            L_NO_TOUCH = false;\n",
              "            L_DISABLE_3D = false;\n",
              "        &lt;/script&gt;\n",
              "    \n",
              "    &lt;style&gt;html, body {width: 100%;height: 100%;margin: 0;padding: 0;}&lt;/style&gt;\n",
              "    &lt;style&gt;#map {position:absolute;top:0;bottom:0;right:0;left:0;}&lt;/style&gt;\n",
              "    &lt;script src=&quot;https://cdn.jsdelivr.net/npm/leaflet@1.9.3/dist/leaflet.js&quot;&gt;&lt;/script&gt;\n",
              "    &lt;script src=&quot;https://code.jquery.com/jquery-1.12.4.min.js&quot;&gt;&lt;/script&gt;\n",
              "    &lt;script src=&quot;https://cdn.jsdelivr.net/npm/bootstrap@5.2.2/dist/js/bootstrap.bundle.min.js&quot;&gt;&lt;/script&gt;\n",
              "    &lt;script src=&quot;https://cdnjs.cloudflare.com/ajax/libs/Leaflet.awesome-markers/2.0.2/leaflet.awesome-markers.js&quot;&gt;&lt;/script&gt;\n",
              "    &lt;link rel=&quot;stylesheet&quot; href=&quot;https://cdn.jsdelivr.net/npm/leaflet@1.9.3/dist/leaflet.css&quot;/&gt;\n",
              "    &lt;link rel=&quot;stylesheet&quot; href=&quot;https://cdn.jsdelivr.net/npm/bootstrap@5.2.2/dist/css/bootstrap.min.css&quot;/&gt;\n",
              "    &lt;link rel=&quot;stylesheet&quot; href=&quot;https://netdna.bootstrapcdn.com/bootstrap/3.0.0/css/bootstrap.min.css&quot;/&gt;\n",
              "    &lt;link rel=&quot;stylesheet&quot; href=&quot;https://cdn.jsdelivr.net/npm/@fortawesome/fontawesome-free@6.2.0/css/all.min.css&quot;/&gt;\n",
              "    &lt;link rel=&quot;stylesheet&quot; href=&quot;https://cdnjs.cloudflare.com/ajax/libs/Leaflet.awesome-markers/2.0.2/leaflet.awesome-markers.css&quot;/&gt;\n",
              "    &lt;link rel=&quot;stylesheet&quot; href=&quot;https://cdn.jsdelivr.net/gh/python-visualization/folium/folium/templates/leaflet.awesome.rotate.min.css&quot;/&gt;\n",
              "    \n",
              "            &lt;meta name=&quot;viewport&quot; content=&quot;width=device-width,\n",
              "                initial-scale=1.0, maximum-scale=1.0, user-scalable=no&quot; /&gt;\n",
              "            &lt;style&gt;\n",
              "                #map_e526cc5991bab0f8a91bedaabdfe15fa {\n",
              "                    position: relative;\n",
              "                    width: 100.0%;\n",
              "                    height: 100.0%;\n",
              "                    left: 0.0%;\n",
              "                    top: 0.0%;\n",
              "                }\n",
              "                .leaflet-container { font-size: 1rem; }\n",
              "            &lt;/style&gt;\n",
              "        \n",
              "&lt;/head&gt;\n",
              "&lt;body&gt;\n",
              "    \n",
              "    \n",
              "            &lt;div class=&quot;folium-map&quot; id=&quot;map_e526cc5991bab0f8a91bedaabdfe15fa&quot; &gt;&lt;/div&gt;\n",
              "        \n",
              "&lt;/body&gt;\n",
              "&lt;script&gt;\n",
              "    \n",
              "    \n",
              "            var map_e526cc5991bab0f8a91bedaabdfe15fa = L.map(\n",
              "                &quot;map_e526cc5991bab0f8a91bedaabdfe15fa&quot;,\n",
              "                {\n",
              "                    center: [19.105643235833334, 72.87976227544871],\n",
              "                    crs: L.CRS.EPSG3857,\n",
              "                    zoom: 12,\n",
              "                    zoomControl: true,\n",
              "                    preferCanvas: false,\n",
              "                }\n",
              "            );\n",
              "\n",
              "            \n",
              "\n",
              "        \n",
              "    \n",
              "            var tile_layer_df8fe2ebd16e0e120b03740a150e5cfe = L.tileLayer(\n",
              "                &quot;https://{s}.tile.openstreetmap.org/{z}/{x}/{y}.png&quot;,\n",
              "                {&quot;attribution&quot;: &quot;Data by \\u0026copy; \\u003ca target=\\&quot;_blank\\&quot; href=\\&quot;http://openstreetmap.org\\&quot;\\u003eOpenStreetMap\\u003c/a\\u003e, under \\u003ca target=\\&quot;_blank\\&quot; href=\\&quot;http://www.openstreetmap.org/copyright\\&quot;\\u003eODbL\\u003c/a\\u003e.&quot;, &quot;detectRetina&quot;: false, &quot;maxNativeZoom&quot;: 18, &quot;maxZoom&quot;: 18, &quot;minZoom&quot;: 0, &quot;noWrap&quot;: false, &quot;opacity&quot;: 1, &quot;subdomains&quot;: &quot;abc&quot;, &quot;tms&quot;: false}\n",
              "            ).addTo(map_e526cc5991bab0f8a91bedaabdfe15fa);\n",
              "        \n",
              "    \n",
              "            var marker_e9a036a9d1197c86773c6c92c55932c8 = L.marker(\n",
              "                [19.0983353, 72.9057331],\n",
              "                {}\n",
              "            ).addTo(map_e526cc5991bab0f8a91bedaabdfe15fa);\n",
              "        \n",
              "    \n",
              "            var icon_61ffa9fa3699642573703211ff9483df = L.AwesomeMarkers.icon(\n",
              "                {&quot;extraClasses&quot;: &quot;fa-rotate-0&quot;, &quot;icon&quot;: &quot;info-sign&quot;, &quot;iconColor&quot;: &quot;white&quot;, &quot;markerColor&quot;: &quot;green&quot;, &quot;prefix&quot;: &quot;glyphicon&quot;}\n",
              "            );\n",
              "            marker_e9a036a9d1197c86773c6c92c55932c8.setIcon(icon_61ffa9fa3699642573703211ff9483df);\n",
              "        \n",
              "    \n",
              "        var popup_e6d020159e93c357ddd7995c7a8212d2 = L.popup({&quot;maxWidth&quot;: &quot;100%&quot;});\n",
              "\n",
              "        \n",
              "            \n",
              "                var html_b5afc9fc28912cbc79e5bdc207da717f = $(`&lt;div id=&quot;html_b5afc9fc28912cbc79e5bdc207da717f&quot; style=&quot;width: 100.0%; height: 100.0%;&quot;&gt;Recommended Cluster 1382&lt;/div&gt;`)[0];\n",
              "                popup_e6d020159e93c357ddd7995c7a8212d2.setContent(html_b5afc9fc28912cbc79e5bdc207da717f);\n",
              "            \n",
              "        \n",
              "\n",
              "        marker_e9a036a9d1197c86773c6c92c55932c8.bindPopup(popup_e6d020159e93c357ddd7995c7a8212d2)\n",
              "        ;\n",
              "\n",
              "        \n",
              "    \n",
              "    \n",
              "            var marker_4b9aba2304199577e290063e6f5523cf = L.marker(\n",
              "                [19.095561433333334, 72.90257153333333],\n",
              "                {}\n",
              "            ).addTo(map_e526cc5991bab0f8a91bedaabdfe15fa);\n",
              "        \n",
              "    \n",
              "            var icon_d62ff87592a85990e800e026720fbdac = L.AwesomeMarkers.icon(\n",
              "                {&quot;extraClasses&quot;: &quot;fa-rotate-0&quot;, &quot;icon&quot;: &quot;info-sign&quot;, &quot;iconColor&quot;: &quot;white&quot;, &quot;markerColor&quot;: &quot;green&quot;, &quot;prefix&quot;: &quot;glyphicon&quot;}\n",
              "            );\n",
              "            marker_4b9aba2304199577e290063e6f5523cf.setIcon(icon_d62ff87592a85990e800e026720fbdac);\n",
              "        \n",
              "    \n",
              "        var popup_897364c46bf63229f2af1ae9158b9028 = L.popup({&quot;maxWidth&quot;: &quot;100%&quot;});\n",
              "\n",
              "        \n",
              "            \n",
              "                var html_f04adb79b853c1bbd9df118352068018 = $(`&lt;div id=&quot;html_f04adb79b853c1bbd9df118352068018&quot; style=&quot;width: 100.0%; height: 100.0%;&quot;&gt;Recommended Cluster 117&lt;/div&gt;`)[0];\n",
              "                popup_897364c46bf63229f2af1ae9158b9028.setContent(html_f04adb79b853c1bbd9df118352068018);\n",
              "            \n",
              "        \n",
              "\n",
              "        marker_4b9aba2304199577e290063e6f5523cf.bindPopup(popup_897364c46bf63229f2af1ae9158b9028)\n",
              "        ;\n",
              "\n",
              "        \n",
              "    \n",
              "    \n",
              "            var marker_92c935bd98f9acd18884e936b344383b = L.marker(\n",
              "                [19.0848189, 72.8594694],\n",
              "                {}\n",
              "            ).addTo(map_e526cc5991bab0f8a91bedaabdfe15fa);\n",
              "        \n",
              "    \n",
              "            var icon_902faf04f4729289a1196d7e8e878e71 = L.AwesomeMarkers.icon(\n",
              "                {&quot;extraClasses&quot;: &quot;fa-rotate-0&quot;, &quot;icon&quot;: &quot;info-sign&quot;, &quot;iconColor&quot;: &quot;white&quot;, &quot;markerColor&quot;: &quot;green&quot;, &quot;prefix&quot;: &quot;glyphicon&quot;}\n",
              "            );\n",
              "            marker_92c935bd98f9acd18884e936b344383b.setIcon(icon_902faf04f4729289a1196d7e8e878e71);\n",
              "        \n",
              "    \n",
              "        var popup_d0195caa718cd5d16f9d4bf9ac4e8fff = L.popup({&quot;maxWidth&quot;: &quot;100%&quot;});\n",
              "\n",
              "        \n",
              "            \n",
              "                var html_1787a532665c9362e4f31022025935a0 = $(`&lt;div id=&quot;html_1787a532665c9362e4f31022025935a0&quot; style=&quot;width: 100.0%; height: 100.0%;&quot;&gt;Recommended Cluster 824&lt;/div&gt;`)[0];\n",
              "                popup_d0195caa718cd5d16f9d4bf9ac4e8fff.setContent(html_1787a532665c9362e4f31022025935a0);\n",
              "            \n",
              "        \n",
              "\n",
              "        marker_92c935bd98f9acd18884e936b344383b.bindPopup(popup_d0195caa718cd5d16f9d4bf9ac4e8fff)\n",
              "        ;\n",
              "\n",
              "        \n",
              "    \n",
              "    \n",
              "            var marker_aab29f9bbc1cb3774029624cc3831e81 = L.marker(\n",
              "                [19.0894375, 72.8986824],\n",
              "                {}\n",
              "            ).addTo(map_e526cc5991bab0f8a91bedaabdfe15fa);\n",
              "        \n",
              "    \n",
              "            var icon_a1185e3963bba4738347beadfbf9ab8f = L.AwesomeMarkers.icon(\n",
              "                {&quot;extraClasses&quot;: &quot;fa-rotate-0&quot;, &quot;icon&quot;: &quot;info-sign&quot;, &quot;iconColor&quot;: &quot;white&quot;, &quot;markerColor&quot;: &quot;green&quot;, &quot;prefix&quot;: &quot;glyphicon&quot;}\n",
              "            );\n",
              "            marker_aab29f9bbc1cb3774029624cc3831e81.setIcon(icon_a1185e3963bba4738347beadfbf9ab8f);\n",
              "        \n",
              "    \n",
              "        var popup_0bc140ede11d8f0d7310a41fe2ee8f60 = L.popup({&quot;maxWidth&quot;: &quot;100%&quot;});\n",
              "\n",
              "        \n",
              "            \n",
              "                var html_cb6ab172609d9930714b806bb35b9921 = $(`&lt;div id=&quot;html_cb6ab172609d9930714b806bb35b9921&quot; style=&quot;width: 100.0%; height: 100.0%;&quot;&gt;Recommended Cluster 1317&lt;/div&gt;`)[0];\n",
              "                popup_0bc140ede11d8f0d7310a41fe2ee8f60.setContent(html_cb6ab172609d9930714b806bb35b9921);\n",
              "            \n",
              "        \n",
              "\n",
              "        marker_aab29f9bbc1cb3774029624cc3831e81.bindPopup(popup_0bc140ede11d8f0d7310a41fe2ee8f60)\n",
              "        ;\n",
              "\n",
              "        \n",
              "    \n",
              "    \n",
              "            var marker_426a4eb899dbfa10dcf8f76b05409adc = L.marker(\n",
              "                [19.1011684, 72.8562889],\n",
              "                {}\n",
              "            ).addTo(map_e526cc5991bab0f8a91bedaabdfe15fa);\n",
              "        \n",
              "    \n",
              "            var icon_4bc8fea098622ad7f7dd4d4d1645ee7c = L.AwesomeMarkers.icon(\n",
              "                {&quot;extraClasses&quot;: &quot;fa-rotate-0&quot;, &quot;icon&quot;: &quot;info-sign&quot;, &quot;iconColor&quot;: &quot;white&quot;, &quot;markerColor&quot;: &quot;green&quot;, &quot;prefix&quot;: &quot;glyphicon&quot;}\n",
              "            );\n",
              "            marker_426a4eb899dbfa10dcf8f76b05409adc.setIcon(icon_4bc8fea098622ad7f7dd4d4d1645ee7c);\n",
              "        \n",
              "    \n",
              "        var popup_594be6b4bcd1c69b9e66f6989077014a = L.popup({&quot;maxWidth&quot;: &quot;100%&quot;});\n",
              "\n",
              "        \n",
              "            \n",
              "                var html_c894a007707bda36391b3c4a34e4b9a8 = $(`&lt;div id=&quot;html_c894a007707bda36391b3c4a34e4b9a8&quot; style=&quot;width: 100.0%; height: 100.0%;&quot;&gt;Recommended Cluster 338&lt;/div&gt;`)[0];\n",
              "                popup_594be6b4bcd1c69b9e66f6989077014a.setContent(html_c894a007707bda36391b3c4a34e4b9a8);\n",
              "            \n",
              "        \n",
              "\n",
              "        marker_426a4eb899dbfa10dcf8f76b05409adc.bindPopup(popup_594be6b4bcd1c69b9e66f6989077014a)\n",
              "        ;\n",
              "\n",
              "        \n",
              "    \n",
              "    \n",
              "            var marker_f0c3d34319e750e100b7edac9317f11a = L.marker(\n",
              "                [19.1391857, 72.8667238],\n",
              "                {}\n",
              "            ).addTo(map_e526cc5991bab0f8a91bedaabdfe15fa);\n",
              "        \n",
              "    \n",
              "            var icon_3fcf1cea93b22bec6c2abd3ceab571e0 = L.AwesomeMarkers.icon(\n",
              "                {&quot;extraClasses&quot;: &quot;fa-rotate-0&quot;, &quot;icon&quot;: &quot;info-sign&quot;, &quot;iconColor&quot;: &quot;white&quot;, &quot;markerColor&quot;: &quot;green&quot;, &quot;prefix&quot;: &quot;glyphicon&quot;}\n",
              "            );\n",
              "            marker_f0c3d34319e750e100b7edac9317f11a.setIcon(icon_3fcf1cea93b22bec6c2abd3ceab571e0);\n",
              "        \n",
              "    \n",
              "        var popup_a286e59f863447c0c4518137de4d5134 = L.popup({&quot;maxWidth&quot;: &quot;100%&quot;});\n",
              "\n",
              "        \n",
              "            \n",
              "                var html_cbbff6229b3740ef64500df0330a66d3 = $(`&lt;div id=&quot;html_cbbff6229b3740ef64500df0330a66d3&quot; style=&quot;width: 100.0%; height: 100.0%;&quot;&gt;Recommended Cluster 1261&lt;/div&gt;`)[0];\n",
              "                popup_a286e59f863447c0c4518137de4d5134.setContent(html_cbbff6229b3740ef64500df0330a66d3);\n",
              "            \n",
              "        \n",
              "\n",
              "        marker_f0c3d34319e750e100b7edac9317f11a.bindPopup(popup_a286e59f863447c0c4518137de4d5134)\n",
              "        ;\n",
              "\n",
              "        \n",
              "    \n",
              "    \n",
              "            var marker_8e814ae48181dbb98be1b6d5d99d4be4 = L.marker(\n",
              "                [19.0905609, 72.9025301],\n",
              "                {}\n",
              "            ).addTo(map_e526cc5991bab0f8a91bedaabdfe15fa);\n",
              "        \n",
              "    \n",
              "            var icon_d42c3d9f0630dcfbec436531a8e5a0f7 = L.AwesomeMarkers.icon(\n",
              "                {&quot;extraClasses&quot;: &quot;fa-rotate-0&quot;, &quot;icon&quot;: &quot;info-sign&quot;, &quot;iconColor&quot;: &quot;white&quot;, &quot;markerColor&quot;: &quot;green&quot;, &quot;prefix&quot;: &quot;glyphicon&quot;}\n",
              "            );\n",
              "            marker_8e814ae48181dbb98be1b6d5d99d4be4.setIcon(icon_d42c3d9f0630dcfbec436531a8e5a0f7);\n",
              "        \n",
              "    \n",
              "        var popup_db69803d113f928f853849fd60beef04 = L.popup({&quot;maxWidth&quot;: &quot;100%&quot;});\n",
              "\n",
              "        \n",
              "            \n",
              "                var html_3cd2c4bd78c25022fa0908197b79861a = $(`&lt;div id=&quot;html_3cd2c4bd78c25022fa0908197b79861a&quot; style=&quot;width: 100.0%; height: 100.0%;&quot;&gt;Recommended Cluster 1390&lt;/div&gt;`)[0];\n",
              "                popup_db69803d113f928f853849fd60beef04.setContent(html_3cd2c4bd78c25022fa0908197b79861a);\n",
              "            \n",
              "        \n",
              "\n",
              "        marker_8e814ae48181dbb98be1b6d5d99d4be4.bindPopup(popup_db69803d113f928f853849fd60beef04)\n",
              "        ;\n",
              "\n",
              "        \n",
              "    \n",
              "    \n",
              "            var marker_7b276ca8b489ef3ffc41683257d3d121 = L.marker(\n",
              "                [19.132869025, 72.858133125],\n",
              "                {}\n",
              "            ).addTo(map_e526cc5991bab0f8a91bedaabdfe15fa);\n",
              "        \n",
              "    \n",
              "            var icon_97b0dab5eb4f851bf8bfffc1a4181439 = L.AwesomeMarkers.icon(\n",
              "                {&quot;extraClasses&quot;: &quot;fa-rotate-0&quot;, &quot;icon&quot;: &quot;info-sign&quot;, &quot;iconColor&quot;: &quot;white&quot;, &quot;markerColor&quot;: &quot;green&quot;, &quot;prefix&quot;: &quot;glyphicon&quot;}\n",
              "            );\n",
              "            marker_7b276ca8b489ef3ffc41683257d3d121.setIcon(icon_97b0dab5eb4f851bf8bfffc1a4181439);\n",
              "        \n",
              "    \n",
              "        var popup_8b7f410212e4c35b9a6443f942226ac2 = L.popup({&quot;maxWidth&quot;: &quot;100%&quot;});\n",
              "\n",
              "        \n",
              "            \n",
              "                var html_9ad7d0966a2614569dc8f75f5df96406 = $(`&lt;div id=&quot;html_9ad7d0966a2614569dc8f75f5df96406&quot; style=&quot;width: 100.0%; height: 100.0%;&quot;&gt;Recommended Cluster 846&lt;/div&gt;`)[0];\n",
              "                popup_8b7f410212e4c35b9a6443f942226ac2.setContent(html_9ad7d0966a2614569dc8f75f5df96406);\n",
              "            \n",
              "        \n",
              "\n",
              "        marker_7b276ca8b489ef3ffc41683257d3d121.bindPopup(popup_8b7f410212e4c35b9a6443f942226ac2)\n",
              "        ;\n",
              "\n",
              "        \n",
              "    \n",
              "    \n",
              "            var marker_c00e0f13bdf0ab1e47cd875b1f12f245 = L.marker(\n",
              "                [19.1367532, 72.8579386],\n",
              "                {}\n",
              "            ).addTo(map_e526cc5991bab0f8a91bedaabdfe15fa);\n",
              "        \n",
              "    \n",
              "            var icon_9fdc44f6480d7be670edbad02cb17f47 = L.AwesomeMarkers.icon(\n",
              "                {&quot;extraClasses&quot;: &quot;fa-rotate-0&quot;, &quot;icon&quot;: &quot;info-sign&quot;, &quot;iconColor&quot;: &quot;white&quot;, &quot;markerColor&quot;: &quot;green&quot;, &quot;prefix&quot;: &quot;glyphicon&quot;}\n",
              "            );\n",
              "            marker_c00e0f13bdf0ab1e47cd875b1f12f245.setIcon(icon_9fdc44f6480d7be670edbad02cb17f47);\n",
              "        \n",
              "    \n",
              "        var popup_09df1674def0d24635749805df9d53d1 = L.popup({&quot;maxWidth&quot;: &quot;100%&quot;});\n",
              "\n",
              "        \n",
              "            \n",
              "                var html_cc5d4d28d55046a923b6a52260bc79b9 = $(`&lt;div id=&quot;html_cc5d4d28d55046a923b6a52260bc79b9&quot; style=&quot;width: 100.0%; height: 100.0%;&quot;&gt;Recommended Cluster 1405&lt;/div&gt;`)[0];\n",
              "                popup_09df1674def0d24635749805df9d53d1.setContent(html_cc5d4d28d55046a923b6a52260bc79b9);\n",
              "            \n",
              "        \n",
              "\n",
              "        marker_c00e0f13bdf0ab1e47cd875b1f12f245.bindPopup(popup_09df1674def0d24635749805df9d53d1)\n",
              "        ;\n",
              "\n",
              "        \n",
              "    \n",
              "    \n",
              "            var marker_4d67ee07fcffb8b6047cf82334c9487d = L.marker(\n",
              "                [19.087742, 72.88955179615385],\n",
              "                {}\n",
              "            ).addTo(map_e526cc5991bab0f8a91bedaabdfe15fa);\n",
              "        \n",
              "    \n",
              "            var icon_af5b589c776cfa5751c518a4f887dab5 = L.AwesomeMarkers.icon(\n",
              "                {&quot;extraClasses&quot;: &quot;fa-rotate-0&quot;, &quot;icon&quot;: &quot;info-sign&quot;, &quot;iconColor&quot;: &quot;white&quot;, &quot;markerColor&quot;: &quot;green&quot;, &quot;prefix&quot;: &quot;glyphicon&quot;}\n",
              "            );\n",
              "            marker_4d67ee07fcffb8b6047cf82334c9487d.setIcon(icon_af5b589c776cfa5751c518a4f887dab5);\n",
              "        \n",
              "    \n",
              "        var popup_e21ce974dd27b33862da8c74c20bdbf1 = L.popup({&quot;maxWidth&quot;: &quot;100%&quot;});\n",
              "\n",
              "        \n",
              "            \n",
              "                var html_6c75f7a870175f585f617c15760371ea = $(`&lt;div id=&quot;html_6c75f7a870175f585f617c15760371ea&quot; style=&quot;width: 100.0%; height: 100.0%;&quot;&gt;Recommended Cluster 86&lt;/div&gt;`)[0];\n",
              "                popup_e21ce974dd27b33862da8c74c20bdbf1.setContent(html_6c75f7a870175f585f617c15760371ea);\n",
              "            \n",
              "        \n",
              "\n",
              "        marker_4d67ee07fcffb8b6047cf82334c9487d.bindPopup(popup_e21ce974dd27b33862da8c74c20bdbf1)\n",
              "        ;\n",
              "\n",
              "        \n",
              "    \n",
              "&lt;/script&gt;\n",
              "&lt;/html&gt;\" style=\"position:absolute;width:100%;height:100%;left:0;top:0;border:none !important;\" allowfullscreen webkitallowfullscreen mozallowfullscreen></iframe></div></div>"
            ]
          },
          "metadata": {},
          "execution_count": 29
        }
      ]
    },
    {
      "cell_type": "code",
      "source": [
        "# Print the metrics of the top 10 recommended clusters\n",
        "print(\"Metrics of the top 10 recommended clusters:\")\n",
        "for cluster_id, location in top_10_locations.iterrows():\n",
        "    outlet_metric = cluster_metrics.loc[cluster_id]\n",
        "    distance_metric = distance_metrics.loc[cluster_id]\n",
        "    price_metric = price_metrics.loc[cluster_id]\n",
        "    weighted_diff = weighted_differences.loc[cluster_id]\n",
        "\n",
        "    print(f\"Cluster {cluster_id}:\")\n",
        "    print(f\"Outlet Metric: {outlet_metric}\")\n",
        "    print(f\"Distance Metric: {distance_metric} meters\")\n",
        "    print(f\"Price Metric: {price_metric}\")\n",
        "    print(f\"Weighted Difference: {weighted_diff}\")\n",
        "    print(\"--------------------------------------\")\n"
      ],
      "metadata": {
        "colab": {
          "base_uri": "https://localhost:8080/"
        },
        "id": "JMjKpMsVAgOk",
        "outputId": "a2306f1f-eeb2-4018-9eb0-79ce4d6ebdc2"
      },
      "execution_count": null,
      "outputs": [
        {
          "output_type": "stream",
          "name": "stdout",
          "text": [
            "Metrics of the top 10 recommended clusters:\n",
            "Cluster 1382:\n",
            "Outlet Metric: 35\n",
            "Distance Metric: 1432.7455510814177 meters\n",
            "Price Metric: 0    31185.01\n",
            "Name: 1382, dtype: float64\n",
            "Weighted Difference: 419.39980336136745\n",
            "--------------------------------------\n",
            "Cluster 117:\n",
            "Outlet Metric: 70\n",
            "Distance Metric: 1254.9792066007162 meters\n",
            "Price Metric: 0    31185.01\n",
            "Name: 117, dtype: float64\n",
            "Weighted Difference: 462.2297067055779\n",
            "--------------------------------------\n",
            "Cluster 824:\n",
            "Outlet Metric: 35\n",
            "Distance Metric: 2331.1498341452793 meters\n",
            "Price Metric: 0    32723.21\n",
            "Name: 824, dtype: float64\n",
            "Weighted Difference: 526.0225184422077\n",
            "--------------------------------------\n",
            "Cluster 1317:\n",
            "Outlet Metric: 0\n",
            "Distance Metric: 1097.8055818767496 meters\n",
            "Price Metric: 0    31185.01\n",
            "Name: 1317, dtype: float64\n",
            "Weighted Difference: 530.3817941227678\n",
            "--------------------------------------\n",
            "Cluster 338:\n",
            "Outlet Metric: 50\n",
            "Distance Metric: 1298.3756602744113 meters\n",
            "Price Metric: 0    32000.0\n",
            "Name: 338, dtype: float64\n",
            "Weighted Difference: 542.0707706034684\n",
            "--------------------------------------\n",
            "Cluster 1261:\n",
            "Outlet Metric: 35\n",
            "Distance Metric: 1894.567040766783 meters\n",
            "Price Metric: 0    32446.55\n",
            "Name: 1261, dtype: float64\n",
            "Weighted Difference: 546.3333564557566\n",
            "--------------------------------------\n",
            "Cluster 1390:\n",
            "Outlet Metric: 35\n",
            "Distance Metric: 818.0376786072113 meters\n",
            "Price Metric: 0    31185.01\n",
            "Name: 1390, dtype: float64\n",
            "Weighted Difference: 603.8121651036294\n",
            "--------------------------------------\n",
            "Cluster 846:\n",
            "Outlet Metric: 150\n",
            "Distance Metric: 1036.9335963833682 meters\n",
            "Price Metric: 0    32446.55\n",
            "Name: 846, dtype: float64\n",
            "Weighted Difference: 779.3233897707812\n",
            "--------------------------------------\n",
            "Cluster 1405:\n",
            "Outlet Metric: 50\n",
            "Distance Metric: 945.5479479402843 meters\n",
            "Price Metric: 0    32446.55\n",
            "Name: 1405, dtype: float64\n",
            "Weighted Difference: 826.5390843037062\n",
            "--------------------------------------\n",
            "Cluster 86:\n",
            "Outlet Metric: 745\n",
            "Distance Metric: 1228.8331445732476 meters\n",
            "Price Metric: 0    32307.69\n",
            "Name: 86, dtype: float64\n",
            "Weighted Difference: 844.709525313817\n",
            "--------------------------------------\n"
          ]
        }
      ]
    }
  ],
  "metadata": {
    "colab": {
      "provenance": []
    },
    "kernelspec": {
      "display_name": "Python 3",
      "name": "python3"
    },
    "language_info": {
      "name": "python"
    }
  },
  "nbformat": 4,
  "nbformat_minor": 0
}